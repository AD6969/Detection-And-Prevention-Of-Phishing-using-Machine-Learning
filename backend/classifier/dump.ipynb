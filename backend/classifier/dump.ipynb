{
 "cells": [
  {
   "cell_type": "code",
   "execution_count": 9,
   "metadata": {},
   "outputs": [],
   "source": [
    "from sklearn.tree import _tree"
   ]
  },
  {
   "cell_type": "code",
   "execution_count": 10,
   "metadata": {},
   "outputs": [],
   "source": [
    "def tree_to_json(tree):\n",
    "    # Accessing the internal tree structure\n",
    "    tree_ = tree.tree_\n",
    "    \n",
    "    # Defining a placeholder list for feature names (assuming 30 features)\n",
    "    feature_names = range(30)\n",
    "    \n",
    "    # Creating a list of feature names where each node has its feature name or 'undefined!' if it's a leaf node\n",
    "    feature_name = [\n",
    "        feature_names[i] if i != _tree.TREE_UNDEFINED else \"undefined!\"\n",
    "        for i in tree_.feature\n",
    "    ]\n",
    "\n",
    "    # Recursive function to traverse the tree and convert it into JSON format\n",
    "    def recurse(node):\n",
    "        tree_json = dict()  # Initialize an empty dictionary to hold the JSON structure\n",
    "        \n",
    "        # Check if the current node is a decision (split) node\n",
    "        if tree_.feature[node] != _tree.TREE_UNDEFINED:\n",
    "            tree_json['type'] = 'split'  # Mark this node as a split\n",
    "            threshold = tree_.threshold[node]  # Get the threshold for this node\n",
    "            tree_json['threshold'] = \"{} <= {}\".format(feature_name[node], threshold)  # Store threshold info\n",
    "            \n",
    "            # Recursively process the left child\n",
    "            tree_json['left'] = recurse(tree_.children_left[node])\n",
    "            \n",
    "            # Recursively process the right child\n",
    "            tree_json['right'] = recurse(tree_.children_right[node])\n",
    "        \n",
    "        # If the node is a leaf node (no decision to make), store its value\n",
    "        else:\n",
    "            tree_json['type'] = 'leaf'  # Mark this node as a leaf\n",
    "            tree_json['value'] = tree_.value[node].tolist()  # Store the leaf value\n",
    "        \n",
    "        return tree_json  # Return the constructed JSON object\n",
    "\n",
    "    # Start the recursion from the root node (node 0)\n",
    "    return recurse(0)\n"
   ]
  },
  {
   "cell_type": "code",
   "execution_count": 11,
   "metadata": {},
   "outputs": [],
   "source": [
    "def forest_to_json(forest):\n",
    "    # Initialize an empty dictionary to store the JSON structure of the forest\n",
    "    forest_json = dict()\n",
    "\n",
    "    # Store the number of features used in the forest\n",
    "    forest_json['n_features'] = forest.n_features_\n",
    "    \n",
    "    # Store the number of classes in the classification problem (if applicable)\n",
    "    forest_json['n_classes'] = forest.n_classes_\n",
    "    \n",
    "    # Store the list of class labels (as a list for JSON serialization)\n",
    "    forest_json['classes'] = forest.classes_.tolist()\n",
    "    \n",
    "    # Store the number of output values (usually 1 for single-output problems)\n",
    "    forest_json['n_outputs'] = forest.n_outputs_\n",
    "    \n",
    "    # Store the number of decision trees (estimators) in the forest\n",
    "    forest_json['n_estimators'] = forest.n_estimators\n",
    "    \n",
    "    # Convert each individual decision tree (estimator) in the forest into JSON format\n",
    "    # This uses the previously defined `tree_to_json` function\n",
    "    forest_json['estimators'] = [tree_to_json(estimator) for estimator in forest.estimators_]\n",
    "    \n",
    "    # Return the complete JSON structure representing the entire forest\n",
    "    return forest_json\n"
   ]
  },
  {
   "cell_type": "code",
   "execution_count": null,
   "metadata": {},
   "outputs": [],
   "source": []
  }
 ],
 "metadata": {
  "kernelspec": {
   "display_name": "Python 3 (ipykernel)",
   "language": "python",
   "name": "python3"
  },
  "language_info": {
   "codemirror_mode": {
    "name": "ipython",
    "version": 3
   },
   "file_extension": ".py",
   "mimetype": "text/x-python",
   "name": "python",
   "nbconvert_exporter": "python",
   "pygments_lexer": "ipython3",
   "version": "3.12.4"
  }
 },
 "nbformat": 4,
 "nbformat_minor": 4
}
